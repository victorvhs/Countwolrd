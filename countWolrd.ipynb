{
  "nbformat": 4,
  "nbformat_minor": 0,
  "metadata": {
    "colab": {
      "name": "countWolrd.ipynb",
      "provenance": [],
      "collapsed_sections": []
    },
    "kernelspec": {
      "name": "python3",
      "display_name": "Python 3"
    },
    "language_info": {
      "name": "python"
    }
  },
  "cells": [
    {
      "cell_type": "code",
      "metadata": {
        "id": "GlBvOqx-5nqx"
      },
      "source": [
        "alice = open(\"alice.txt\")\n",
        "from string import punctuation\n",
        "document_read = alice.read().lower()\n",
        "for sinal in punctuation:\n",
        "  document_read = document_read.replace(sinal,\"\")\n",
        "document_split = document_read.split()"
      ],
      "execution_count": null,
      "outputs": []
    },
    {
      "cell_type": "code",
      "metadata": {
        "colab": {
          "base_uri": "https://localhost:8080/"
        },
        "id": "CaNwfoUC6-Pb",
        "outputId": "5b287473-cbdf-448e-9c51-38fcc661fa7a"
      },
      "source": [
        "totalPalavras= len(document_split)\n",
        "print(totalPalavras)"
      ],
      "execution_count": null,
      "outputs": [
        {
          "output_type": "stream",
          "text": [
            "2129\n"
          ],
          "name": "stdout"
        }
      ]
    },
    {
      "cell_type": "code",
      "metadata": {
        "colab": {
          "base_uri": "https://localhost:8080/"
        },
        "id": "IQCol7RG7IG9",
        "outputId": "0b79b310-c91d-4323-8396-6fa52d8ac75f"
      },
      "source": [
        "totalPalavrasUnica = {}\n",
        "for i in document_split:\n",
        "  if not i in totalPalavrasUnica:\n",
        "    totalPalavrasUnica[i] = 1 \n",
        "  else:\n",
        "    totalPalavrasUnica[i] +=1\n",
        "print(len(totalPalavrasUnica))\n",
        "print(totalPalavrasUnica)"
      ],
      "execution_count": null,
      "outputs": [
        {
          "output_type": "stream",
          "text": [
            "606\n",
            "{'alice': 27, 'was': 53, 'beginning': 1, 'to': 73, 'get': 7, 'very': 22, 'tired': 2, 'of': 41, 'sitting': 1, 'by': 6, 'her': 26, 'sister': 2, 'on': 15, 'the': 88, 'bank': 1, 'and': 64, 'having': 3, 'nothing': 7, 'do': 9, 'once': 4, 'or': 12, 'twice': 1, 'she': 78, 'had': 20, 'peeped': 1, 'into': 9, 'book': 3, 'reading': 1, 'but': 21, 'it': 62, 'no': 11, 'pictures': 3, 'conversations': 1, 'in': 26, 'what': 10, 'is': 6, 'use': 5, 'a': 52, 'thought': 8, 'without': 2, 'conversation': 1, 'so': 13, 'considering': 2, 'own': 2, 'mind': 2, 'as': 14, 'well': 7, 'could': 8, 'for': 21, 'hot': 2, 'day': 1, 'made': 2, 'feel': 2, 'sleepy': 2, 'stupid': 2, 'whether': 2, 'pleasure': 1, 'making': 1, 'daisychain': 1, 'would': 7, 'be': 13, 'worth': 1, 'trouble': 1, 'getting': 3, 'up': 12, 'picking': 1, 'daisies': 1, 'when': 10, 'suddenly': 5, 'white': 2, 'rabbit': 6, 'with': 11, 'pink': 1, 'eyes': 2, 'ran': 2, 'close': 2, 'there': 10, 'remarkable': 1, 'that': 25, 'nor': 1, 'did': 3, 'think': 11, 'much': 6, 'out': 11, 'way': 11, 'hear': 2, 'say': 6, 'itself': 1, 'oh': 4, 'dear': 3, 'i': 29, 'shall': 5, 'late': 2, 'over': 3, 'afterwards': 1, 'occurred': 1, 'ought': 1, 'have': 2, 'wondered': 1, 'at': 11, 'this': 13, 'time': 8, 'all': 10, 'seemed': 3, 'quite': 4, 'natural': 1, 'actually': 1, 'took': 2, 'watch': 2, 'its': 4, 'waistcoat': 1, 'pocket': 1, 'looked': 4, 'then': 5, 'hurried': 1, 'started': 1, 'feet': 2, 'flashed': 1, 'across': 2, 'never': 5, 'before': 5, 'seen': 3, 'either': 6, 'waistcoatpocket': 1, 'take': 1, 'burning': 1, 'curiosity': 1, 'field': 1, 'after': 5, 'fortunately': 1, 'just': 3, 'see': 10, 'pop': 1, 'down': 22, 'large': 3, 'rabbithole': 2, 'under': 3, 'hedge': 1, 'another': 3, 'moment': 4, 'went': 7, 'how': 9, 'world': 1, 'again': 4, 'straight': 1, 'like': 11, 'tunnel': 1, 'some': 1, 'dipped': 1, 'not': 16, 'about': 8, 'stopping': 1, 'herself': 13, 'found': 7, 'falling': 2, 'deep': 2, 'fell': 4, 'slowly': 1, 'plenty': 1, 'look': 3, 'wonder': 6, 'going': 6, 'happen': 2, 'next': 1, 'first': 4, 'tried': 5, 'make': 2, 'coming': 1, 'too': 5, 'dark': 3, 'anything': 2, 'sides': 1, 'noticed': 2, 'they': 4, 'were': 8, 'filled': 1, 'cupboards': 2, 'bookshelves': 1, 'here': 4, 'saw': 2, 'maps': 1, 'hung': 1, 'upon': 4, 'pegs': 1, 'jar': 2, 'from': 3, 'one': 9, 'shelves': 1, 'passed': 1, 'labelled': 1, 'orange': 1, 'marmalade': 1, 'great': 2, 'disappointment': 1, 'empty': 1, 'drop': 1, 'fear': 1, 'killing': 1, 'somebody': 1, 'managed': 1, 'put': 2, 'past': 1, 'such': 3, 'fall': 4, 'tumbling': 1, 'stairs': 1, 'brave': 1, 'theyll': 2, 'me': 12, 'home': 1, 'why': 2, 'wouldnt': 1, 'even': 3, 'if': 10, 'off': 5, 'top': 2, 'house': 1, 'which': 9, 'likely': 1, 'true': 1, 'come': 3, 'an': 2, 'end': 2, 'many': 2, 'miles': 2, 'ive': 2, 'fallen': 1, 'said': 8, 'aloud': 1, 'must': 2, 'somewhere': 2, 'near': 1, 'centre': 1, 'earth': 2, 'let': 1, 'four': 1, 'thousand': 1, 'you': 18, 'learnt': 1, 'several': 2, 'things': 5, 'sort': 3, 'lessons': 1, 'schoolroom': 1, 'though': 2, 'good': 3, 'opportunity': 1, 'showing': 1, 'knowledge': 1, 'listen': 1, 'still': 2, 'practice': 1, 'yes': 1, 'thats': 2, 'right': 4, 'distancebut': 1, 'latitude': 2, 'longitude': 2, 'got': 4, 'idea': 1, 'nice': 3, 'grand': 1, 'words': 3, 'presently': 1, 'began': 3, 'through': 6, 'funny': 1, 'itll': 2, 'seem': 1, 'among': 2, 'people': 4, 'walk': 1, 'their': 2, 'heads': 1, 'downward': 1, 'antipathies': 1, 'rather': 3, 'glad': 1, 'listening': 1, 'didnt': 2, 'sound': 1, 'word': 1, 'ask': 2, 'them': 3, 'name': 1, 'country': 1, 'know': 4, 'please': 1, 'maam': 1, 'new': 1, 'zealand': 1, 'australia': 1, 'curtsey': 1, 'spokefancy': 1, 'curtseying': 1, 'youre': 1, 'air': 2, 'manage': 1, 'ignorant': 1, 'little': 15, 'girl': 1, 'shell': 1, 'asking': 1, 'perhaps': 1, 'written': 1, 'else': 1, 'soon': 3, 'talking': 1, 'dinahll': 1, 'miss': 1, 'tonight': 1, 'should': 2, 'dinah': 4, 'cat': 1, 'hope': 1, 'remember': 3, 'saucer': 1, 'milk': 1, 'teatime': 1, 'my': 5, 'wish': 2, 'are': 1, 'mice': 1, 'im': 1, 'afraid': 1, 'might': 4, 'catch': 1, 'bat': 2, 'mouse': 1, 'cats': 4, 'eat': 7, 'bats': 4, 'saying': 2, 'dreamy': 1, 'sometimes': 2, 'couldnt': 1, 'answer': 1, 'question': 1, 'matter': 1, 'felt': 2, 'dozing': 1, 'begun': 2, 'dream': 1, 'walking': 1, 'hand': 3, 'earnestly': 1, 'now': 4, 'tell': 1, 'truth': 1, 'ever': 4, 'thump': 2, 'came': 3, 'heap': 1, 'sticks': 1, 'dry': 1, 'leaves': 1, 'bit': 2, 'hurt': 1, 'jumped': 1, 'overhead': 1, 'long': 3, 'passage': 3, 'sight': 1, 'hurrying': 1, 'lost': 1, 'away': 1, 'wind': 1, 'turned': 2, 'corner': 2, 'ears': 2, 'whiskers': 1, 'behind': 2, 'longer': 1, 'low': 2, 'hall': 4, 'lit': 1, 'row': 1, 'lamps': 1, 'hanging': 1, 'roof': 1, 'doors': 2, 'round': 3, 'locked': 1, 'been': 1, 'side': 1, 'other': 2, 'trying': 3, 'every': 1, 'door': 7, 'walked': 1, 'sadly': 1, 'middle': 1, 'wondering': 1, 'threelegged': 1, 'table': 5, 'solid': 1, 'glass': 3, 'except': 1, 'tiny': 1, 'golden': 3, 'key': 6, 'alices': 1, 'belong': 1, 'alas': 2, 'locks': 1, 'small': 3, 'any': 4, 'rate': 2, 'open': 1, 'however': 3, 'second': 1, 'curtain': 1, 'fifteen': 1, 'inches': 2, 'high': 2, 'lock': 1, 'delight': 1, 'fitted': 1, 'opened': 2, 'led': 1, 'larger': 2, 'than': 1, 'rathole': 1, 'knelt': 1, 'along': 1, 'loveliest': 1, 'garden': 4, 'longed': 1, 'wander': 1, 'those': 2, 'beds': 1, 'bright': 1, 'flowers': 1, 'cool': 1, 'fountains': 1, 'head': 3, 'doorway': 1, 'go': 2, 'poor': 4, 'shoulders': 1, 'shut': 1, 'telescope': 2, 'only': 2, 'begin': 1, 'outoftheway': 2, 'happened': 2, 'lately': 1, 'few': 2, 'indeed': 2, 'really': 1, 'impossible': 1, 'waiting': 1, 'back': 2, 'half': 1, 'hoping': 1, 'find': 2, 'rules': 2, 'shutting': 2, 'telescopes': 1, 'bottle': 4, 'certainly': 1, 'neck': 1, 'paper': 1, 'label': 1, 'drink': 3, 'beautifully': 2, 'printed': 1, 'letters': 1, 'wise': 1, 'hurry': 1, 'ill': 3, 'marked': 4, 'poison': 3, 'read': 1, 'histories': 1, 'children': 1, 'who': 1, 'burnt': 1, 'eaten': 1, 'wild': 1, 'beasts': 1, 'unpleasant': 1, 'because': 1, 'simple': 1, 'friends': 1, 'taught': 1, 'redhot': 1, 'poker': 1, 'will': 1, 'burn': 1, 'hold': 1, 'cut': 1, 'your': 1, 'finger': 1, 'deeply': 1, 'knife': 1, 'usually': 1, 'bleeds': 1, 'forgotten': 2, 'almost': 1, 'certain': 1, 'disagree': 1, 'sooner': 1, 'later': 1, 'ventured': 1, 'taste': 1, 'finding': 2, 'fact': 1, 'mixed': 1, 'flavour': 1, 'cherrytart': 1, 'custard': 1, 'pineapple': 1, 'roast': 1, 'turkey': 1, 'toffee': 1, 'buttered': 1, 'toast': 1, 'finished': 1, 'curious': 2, 'feeling': 1, 'ten': 1, 'face': 1, 'brightened': 1, 'size': 2, 'lovely': 1, 'waited': 1, 'minutes': 1, 'shrink': 1, 'further': 1, 'nervous': 1, 'altogether': 1, 'candle': 3, 'fancy': 1, 'flame': 1, 'blown': 1, 'thing': 2, 'while': 1, 'more': 1, 'decided': 1, 'possibly': 1, 'reach': 2, 'plainly': 1, 'best': 1, 'climb': 1, 'legs': 1, 'slippery': 1, 'sat': 1, 'cried': 1, 'theres': 2, 'crying': 1, 'sharply': 1, 'advise': 1, 'leave': 1, 'minute': 1, 'generally': 2, 'gave': 1, 'advice': 1, 'seldom': 1, 'followed': 1, 'scolded': 1, 'severely': 1, 'bring': 1, 'tears': 1, 'remembered': 1, 'box': 2, 'cheated': 1, 'game': 1, 'croquet': 1, 'playing': 1, 'against': 1, 'child': 1, 'fond': 1, 'pretending': 1, 'two': 2, 'pretend': 1, 'hardly': 1, 'enough': 1, 'left': 1, 'respectable': 1, 'person': 1, 'eye': 1, 'lying': 1, 'cake': 2, 'currants': 1, 'makes': 2, 'grow': 2, 'can': 2, 'smaller': 1, 'creep': 1, 'dont': 1, 'care': 1, 'happens': 2, 'ate': 1, 'anxiously': 1, 'holding': 1, 'growing': 1, 'surprised': 1, 'remained': 1, 'same': 1, 'sure': 1, 'eats': 1, 'expecting': 1, 'dull': 1, 'life': 1, 'common': 1}\n"
          ],
          "name": "stdout"
        }
      ]
    },
    {
      "cell_type": "code",
      "metadata": {
        "colab": {
          "base_uri": "https://localhost:8080/"
        },
        "id": "5J_CXQS_M5ql",
        "outputId": "0c399d27-750a-4fe7-8aa8-3cd23753a310"
      },
      "source": [
        "\n",
        "words = sorted(totalPalavrasUnica.items(), key=lambda x:x[1], reverse=True)\n",
        "stop_words = set()\n",
        "for i in words[0:3]:\n",
        "  stop_words.add(i)\n",
        "for i in words[-4:-1]:\n",
        "  stop_words.add(i)\n"
      ],
      "execution_count": null,
      "outputs": [
        {
          "output_type": "execute_result",
          "data": {
            "text/plain": [
              "[('expecting', 1), ('dull', 1), ('life', 1)]"
            ]
          },
          "metadata": {
            "tags": []
          },
          "execution_count": 67
        }
      ]
    },
    {
      "cell_type": "code",
      "metadata": {
        "id": "GGTFHXha8vPZ"
      },
      "source": [
        "import pandas as pd\n",
        "import numpy as np"
      ],
      "execution_count": null,
      "outputs": []
    },
    {
      "cell_type": "code",
      "metadata": {
        "colab": {
          "base_uri": "https://localhost:8080/",
          "height": 397
        },
        "id": "lZEXZmk4b99j",
        "outputId": "8e2011e7-3a44-4a98-8273-87279b10e0ed"
      },
      "source": [
        "cup = pd.read_csv('WorldCupMatches.csv')\n",
        "cup.head(5)"
      ],
      "execution_count": null,
      "outputs": [
        {
          "output_type": "execute_result",
          "data": {
            "text/html": [
              "<div>\n",
              "<style scoped>\n",
              "    .dataframe tbody tr th:only-of-type {\n",
              "        vertical-align: middle;\n",
              "    }\n",
              "\n",
              "    .dataframe tbody tr th {\n",
              "        vertical-align: top;\n",
              "    }\n",
              "\n",
              "    .dataframe thead th {\n",
              "        text-align: right;\n",
              "    }\n",
              "</style>\n",
              "<table border=\"1\" class=\"dataframe\">\n",
              "  <thead>\n",
              "    <tr style=\"text-align: right;\">\n",
              "      <th></th>\n",
              "      <th>Year</th>\n",
              "      <th>Datetime</th>\n",
              "      <th>Stage</th>\n",
              "      <th>Stadium</th>\n",
              "      <th>City</th>\n",
              "      <th>Home Team Name</th>\n",
              "      <th>Home Team Goals</th>\n",
              "      <th>Away Team Goals</th>\n",
              "      <th>Away Team Name</th>\n",
              "      <th>Win conditions</th>\n",
              "      <th>Attendance</th>\n",
              "      <th>Half-time Home Goals</th>\n",
              "      <th>Half-time Away Goals</th>\n",
              "      <th>Referee</th>\n",
              "      <th>Assistant 1</th>\n",
              "      <th>Assistant 2</th>\n",
              "      <th>RoundID</th>\n",
              "      <th>MatchID</th>\n",
              "      <th>Home Team Initials</th>\n",
              "      <th>Away Team Initials</th>\n",
              "    </tr>\n",
              "  </thead>\n",
              "  <tbody>\n",
              "    <tr>\n",
              "      <th>0</th>\n",
              "      <td>1930</td>\n",
              "      <td>13 Jul 1930 - 15:00</td>\n",
              "      <td>Group 1</td>\n",
              "      <td>Pocitos</td>\n",
              "      <td>Montevideo</td>\n",
              "      <td>France</td>\n",
              "      <td>4</td>\n",
              "      <td>1</td>\n",
              "      <td>Mexico</td>\n",
              "      <td></td>\n",
              "      <td>4444.0</td>\n",
              "      <td>3</td>\n",
              "      <td>0</td>\n",
              "      <td>LOMBARDI Domingo (URU)</td>\n",
              "      <td>CRISTOPHE Henry (BEL)</td>\n",
              "      <td>REGO Gilberto (BRA)</td>\n",
              "      <td>201</td>\n",
              "      <td>1096</td>\n",
              "      <td>FRA</td>\n",
              "      <td>MEX</td>\n",
              "    </tr>\n",
              "    <tr>\n",
              "      <th>1</th>\n",
              "      <td>1930</td>\n",
              "      <td>13 Jul 1930 - 15:00</td>\n",
              "      <td>Group 4</td>\n",
              "      <td>Parque Central</td>\n",
              "      <td>Montevideo</td>\n",
              "      <td>USA</td>\n",
              "      <td>3</td>\n",
              "      <td>0</td>\n",
              "      <td>Belgium</td>\n",
              "      <td></td>\n",
              "      <td>18346.0</td>\n",
              "      <td>2</td>\n",
              "      <td>0</td>\n",
              "      <td>MACIAS Jose (ARG)</td>\n",
              "      <td>MATEUCCI Francisco (URU)</td>\n",
              "      <td>WARNKEN Alberto (CHI)</td>\n",
              "      <td>201</td>\n",
              "      <td>1090</td>\n",
              "      <td>USA</td>\n",
              "      <td>BEL</td>\n",
              "    </tr>\n",
              "    <tr>\n",
              "      <th>2</th>\n",
              "      <td>1930</td>\n",
              "      <td>14 Jul 1930 - 12:45</td>\n",
              "      <td>Group 2</td>\n",
              "      <td>Parque Central</td>\n",
              "      <td>Montevideo</td>\n",
              "      <td>Yugoslavia</td>\n",
              "      <td>2</td>\n",
              "      <td>1</td>\n",
              "      <td>Brazil</td>\n",
              "      <td></td>\n",
              "      <td>24059.0</td>\n",
              "      <td>2</td>\n",
              "      <td>0</td>\n",
              "      <td>TEJADA Anibal (URU)</td>\n",
              "      <td>VALLARINO Ricardo (URU)</td>\n",
              "      <td>BALWAY Thomas (FRA)</td>\n",
              "      <td>201</td>\n",
              "      <td>1093</td>\n",
              "      <td>YUG</td>\n",
              "      <td>BRA</td>\n",
              "    </tr>\n",
              "    <tr>\n",
              "      <th>3</th>\n",
              "      <td>1930</td>\n",
              "      <td>14 Jul 1930 - 14:50</td>\n",
              "      <td>Group 3</td>\n",
              "      <td>Pocitos</td>\n",
              "      <td>Montevideo</td>\n",
              "      <td>Romania</td>\n",
              "      <td>3</td>\n",
              "      <td>1</td>\n",
              "      <td>Peru</td>\n",
              "      <td></td>\n",
              "      <td>2549.0</td>\n",
              "      <td>1</td>\n",
              "      <td>0</td>\n",
              "      <td>WARNKEN Alberto (CHI)</td>\n",
              "      <td>LANGENUS Jean (BEL)</td>\n",
              "      <td>MATEUCCI Francisco (URU)</td>\n",
              "      <td>201</td>\n",
              "      <td>1098</td>\n",
              "      <td>ROU</td>\n",
              "      <td>PER</td>\n",
              "    </tr>\n",
              "    <tr>\n",
              "      <th>4</th>\n",
              "      <td>1930</td>\n",
              "      <td>15 Jul 1930 - 16:00</td>\n",
              "      <td>Group 1</td>\n",
              "      <td>Parque Central</td>\n",
              "      <td>Montevideo</td>\n",
              "      <td>Argentina</td>\n",
              "      <td>1</td>\n",
              "      <td>0</td>\n",
              "      <td>France</td>\n",
              "      <td></td>\n",
              "      <td>23409.0</td>\n",
              "      <td>0</td>\n",
              "      <td>0</td>\n",
              "      <td>REGO Gilberto (BRA)</td>\n",
              "      <td>SAUCEDO Ulises (BOL)</td>\n",
              "      <td>RADULESCU Constantin (ROU)</td>\n",
              "      <td>201</td>\n",
              "      <td>1085</td>\n",
              "      <td>ARG</td>\n",
              "      <td>FRA</td>\n",
              "    </tr>\n",
              "  </tbody>\n",
              "</table>\n",
              "</div>"
            ],
            "text/plain": [
              "   Year              Datetime  ... Home Team Initials Away Team Initials\n",
              "0  1930  13 Jul 1930 - 15:00   ...                FRA                MEX\n",
              "1  1930  13 Jul 1930 - 15:00   ...                USA                BEL\n",
              "2  1930  14 Jul 1930 - 12:45   ...                YUG                BRA\n",
              "3  1930  14 Jul 1930 - 14:50   ...                ROU                PER\n",
              "4  1930  15 Jul 1930 - 16:00   ...                ARG                FRA\n",
              "\n",
              "[5 rows x 20 columns]"
            ]
          },
          "metadata": {
            "tags": []
          },
          "execution_count": 2
        }
      ]
    },
    {
      "cell_type": "code",
      "metadata": {
        "colab": {
          "base_uri": "https://localhost:8080/",
          "height": 427
        },
        "id": "33utMM9mcIh7",
        "outputId": "abf28dc0-d707-4b4a-a374-960c9f3fa765"
      },
      "source": [
        "colunas = ['Year', 'Home Team Name', 'Home Team Goals', 'Away Team Goals', 'Away Team Name', 'Half-time Home Goals', 'Half-time Away Goals']\n",
        "cupLimpo = cup[colunas]\n",
        "#cupLimpo = pd.DataFrame(data=cup, columns=['Year', 'Home Team Name', 'Home Team Goals', 'Away Team Goals', 'Away Team Name', 'Half-time Home Goals', 'Half-time Away Goals'])\n",
        "cupLimpo.head(5)\n",
        "\n",
        "Home= cupLimpo['Home Team Goals']\n",
        "Away = cupLimpo['Away Team Goals']\n",
        "\n",
        "cupLimpo['Home Team Wins'] = cupLimpo['Home Team Goals'] >= cupLimpo['Away Team Goals']\n",
        "\n",
        "#cupLimpo['Home Team Wins'] = np.where(cupLimpo['Home Team Goals'] >= cupLimpo['Away Team Goals'],True, False)\n",
        "cupLimpo.head(5)\n",
        "\n",
        "cupLimpo['Goals Dif'] = (cupLimpo['Home Team Goals'] -cupLimpo['Away Team Goals']).abs()\n",
        "cupLimpo.head(5)"
      ],
      "execution_count": null,
      "outputs": [
        {
          "output_type": "stream",
          "text": [
            "/usr/local/lib/python3.7/dist-packages/ipykernel_launcher.py:9: SettingWithCopyWarning: \n",
            "A value is trying to be set on a copy of a slice from a DataFrame.\n",
            "Try using .loc[row_indexer,col_indexer] = value instead\n",
            "\n",
            "See the caveats in the documentation: https://pandas.pydata.org/pandas-docs/stable/user_guide/indexing.html#returning-a-view-versus-a-copy\n",
            "  if __name__ == '__main__':\n",
            "/usr/local/lib/python3.7/dist-packages/ipykernel_launcher.py:14: SettingWithCopyWarning: \n",
            "A value is trying to be set on a copy of a slice from a DataFrame.\n",
            "Try using .loc[row_indexer,col_indexer] = value instead\n",
            "\n",
            "See the caveats in the documentation: https://pandas.pydata.org/pandas-docs/stable/user_guide/indexing.html#returning-a-view-versus-a-copy\n",
            "  \n"
          ],
          "name": "stderr"
        },
        {
          "output_type": "execute_result",
          "data": {
            "text/html": [
              "<div>\n",
              "<style scoped>\n",
              "    .dataframe tbody tr th:only-of-type {\n",
              "        vertical-align: middle;\n",
              "    }\n",
              "\n",
              "    .dataframe tbody tr th {\n",
              "        vertical-align: top;\n",
              "    }\n",
              "\n",
              "    .dataframe thead th {\n",
              "        text-align: right;\n",
              "    }\n",
              "</style>\n",
              "<table border=\"1\" class=\"dataframe\">\n",
              "  <thead>\n",
              "    <tr style=\"text-align: right;\">\n",
              "      <th></th>\n",
              "      <th>Year</th>\n",
              "      <th>Home Team Name</th>\n",
              "      <th>Home Team Goals</th>\n",
              "      <th>Away Team Goals</th>\n",
              "      <th>Away Team Name</th>\n",
              "      <th>Half-time Home Goals</th>\n",
              "      <th>Half-time Away Goals</th>\n",
              "      <th>Home Team Wins</th>\n",
              "      <th>Goals Dif</th>\n",
              "    </tr>\n",
              "  </thead>\n",
              "  <tbody>\n",
              "    <tr>\n",
              "      <th>0</th>\n",
              "      <td>1930</td>\n",
              "      <td>France</td>\n",
              "      <td>4</td>\n",
              "      <td>1</td>\n",
              "      <td>Mexico</td>\n",
              "      <td>3</td>\n",
              "      <td>0</td>\n",
              "      <td>True</td>\n",
              "      <td>3</td>\n",
              "    </tr>\n",
              "    <tr>\n",
              "      <th>1</th>\n",
              "      <td>1930</td>\n",
              "      <td>USA</td>\n",
              "      <td>3</td>\n",
              "      <td>0</td>\n",
              "      <td>Belgium</td>\n",
              "      <td>2</td>\n",
              "      <td>0</td>\n",
              "      <td>True</td>\n",
              "      <td>3</td>\n",
              "    </tr>\n",
              "    <tr>\n",
              "      <th>2</th>\n",
              "      <td>1930</td>\n",
              "      <td>Yugoslavia</td>\n",
              "      <td>2</td>\n",
              "      <td>1</td>\n",
              "      <td>Brazil</td>\n",
              "      <td>2</td>\n",
              "      <td>0</td>\n",
              "      <td>True</td>\n",
              "      <td>1</td>\n",
              "    </tr>\n",
              "    <tr>\n",
              "      <th>3</th>\n",
              "      <td>1930</td>\n",
              "      <td>Romania</td>\n",
              "      <td>3</td>\n",
              "      <td>1</td>\n",
              "      <td>Peru</td>\n",
              "      <td>1</td>\n",
              "      <td>0</td>\n",
              "      <td>True</td>\n",
              "      <td>2</td>\n",
              "    </tr>\n",
              "    <tr>\n",
              "      <th>4</th>\n",
              "      <td>1930</td>\n",
              "      <td>Argentina</td>\n",
              "      <td>1</td>\n",
              "      <td>0</td>\n",
              "      <td>France</td>\n",
              "      <td>0</td>\n",
              "      <td>0</td>\n",
              "      <td>True</td>\n",
              "      <td>1</td>\n",
              "    </tr>\n",
              "  </tbody>\n",
              "</table>\n",
              "</div>"
            ],
            "text/plain": [
              "   Year Home Team Name  ...  Home Team Wins  Goals Dif\n",
              "0  1930         France  ...            True          3\n",
              "1  1930            USA  ...            True          3\n",
              "2  1930     Yugoslavia  ...            True          1\n",
              "3  1930        Romania  ...            True          2\n",
              "4  1930      Argentina  ...            True          1\n",
              "\n",
              "[5 rows x 9 columns]"
            ]
          },
          "metadata": {
            "tags": []
          },
          "execution_count": 4
        }
      ]
    }
  ]
}